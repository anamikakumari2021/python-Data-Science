{
 "cells": [
  {
   "cell_type": "markdown",
   "metadata": {},
   "source": [
    "# Write a function that asks for an integer and prints the square of it. Use a while loop with a try, except, else block to account for incorrect inputs."
   ]
  },
  {
   "cell_type": "code",
   "execution_count": 5,
   "metadata": {},
   "outputs": [],
   "source": [
    "def askint():\n",
    "    while True:\n",
    "        try:\n",
    "            v=int(input(\"please give me an integer\"))\n",
    "        except Exception as e:\n",
    "            print(e)\n",
    "        else:\n",
    "            return (v**2)\n",
    "            print(\"there is no problem with vcode\")\n",
    "            break   \n",
    "        finally:\n",
    "            print(\"this block will excute no matter wahat\")   \n",
    "    print(v)      "
   ]
  },
  {
   "cell_type": "code",
   "execution_count": 6,
   "metadata": {},
   "outputs": [
    {
     "name": "stdout",
     "output_type": "stream",
     "text": [
      "please give me an integeranamika\n",
      "invalid literal for int() with base 10: 'anamika'\n",
      "this block will excute no matter wahat\n",
      "please give me an integer12\n",
      "this block will excute no matter wahat\n"
     ]
    },
    {
     "data": {
      "text/plain": [
       "144"
      ]
     },
     "execution_count": 6,
     "metadata": {},
     "output_type": "execute_result"
    }
   ],
   "source": [
    "askint()"
   ]
  },
  {
   "cell_type": "markdown",
   "metadata": {},
   "source": [
    "# Write a function to compute 8/0 and use try/except to catch the exceptions."
   ]
  },
  {
   "cell_type": "code",
   "execution_count": 14,
   "metadata": {},
   "outputs": [],
   "source": [
    "def exception():\n",
    "    try:\n",
    "        a=int(input(\"enter the divider number\"))\n",
    "        b=8/a\n",
    "        print(b)\n",
    "    except Exception as e:\n",
    "         print(e)\n",
    "    else:    \n",
    "        print(\"there is no problem with vcode\") \n",
    "    finally:\n",
    "        print(\"this block will excute no matter wahat\") \n"
   ]
  },
  {
   "cell_type": "code",
   "execution_count": 15,
   "metadata": {},
   "outputs": [
    {
     "name": "stdout",
     "output_type": "stream",
     "text": [
      "enter the divider number0\n",
      "division by zero\n",
      "this block will excute no matter wahat\n"
     ]
    }
   ],
   "source": [
    "exception()"
   ]
  },
  {
   "cell_type": "markdown",
   "metadata": {},
   "source": [
    "# Write a Python program that accepts a string and calculate the number of digits and letters.\n",
    "Input :-Hello321Bye360\n",
    "Output:-Digit - 6,Letter - 8"
   ]
  },
  {
   "cell_type": "code",
   "execution_count": 21,
   "metadata": {},
   "outputs": [],
   "source": [
    "def letter(s):\n",
    "    count=0\n",
    "    c=0\n",
    "    for i in s:\n",
    "        if i.isdigit():\n",
    "            count=count+1\n",
    "           \n",
    "        else:\n",
    "            c=c+1\n",
    "            \n",
    "           \n",
    "    print(\"uppercase letter\",count)\n",
    "    print(\"lower letter\",c)"
   ]
  },
  {
   "cell_type": "code",
   "execution_count": 23,
   "metadata": {},
   "outputs": [
    {
     "name": "stdout",
     "output_type": "stream",
     "text": [
      "uppercase letter 6\n",
      "lower letter 5\n"
     ]
    }
   ],
   "source": [
    "letter(\"adfAA122344\")"
   ]
  },
  {
   "cell_type": "markdown",
   "metadata": {},
   "source": [
    "# . You are given a string.Your task is to count the frequency of letters of the string and print the letters in descending order of frequency.\n",
    "for example :- If the following string is given as input to the program: aabbbccde\n",
    "Then, the output of the program should be: b 3 a 2 c 2 d 1 e 1"
   ]
  },
  {
   "cell_type": "code",
   "execution_count": 3,
   "metadata": {},
   "outputs": [],
   "source": [
    "def freqsort(s):\n",
    "    res={}\n",
    "    for i in s:\n",
    "        res[i]=res.get(i,0)+1\n",
    "    print(\"count of all character\\n\"+str(res))\n",
    "    res_desc=sorted(res.items(),key=lambda x:x[1],reverse=True)\n",
    "    for i in res_desc:\n",
    "        print(i[0],i[1],end='')\n",
    "\n",
    "    \n",
    "    "
   ]
  },
  {
   "cell_type": "code",
   "execution_count": 4,
   "metadata": {},
   "outputs": [
    {
     "name": "stdout",
     "output_type": "stream",
     "text": [
      "count of all character\n",
      "{'a': 4, 'b': 1, 'g': 2, 't': 1, 'd': 1, 'h': 6}\n",
      "h 6a 4g 2b 1t 1d 1"
     ]
    }
   ],
   "source": [
    "freqsort(\"aaaabgtdghhhhhh\")"
   ]
  },
  {
   "cell_type": "markdown",
   "metadata": {},
   "source": [
    "# Ques 5. You are required to write a program to sort the (name, age, score) tuples by ascending order where name is string, age and score are numbers. The tuples are input by console. The sort criteria is:\n",
    "\n",
    "    Sort based on name\n",
    "    Then sort based on age\n",
    "    Then sort by score\n",
    "\n",
    "The priority is that name > age > score.\n",
    "\n",
    "If the following tuples are given as input to the program:\n",
    "\n",
    "Tom,19,80\n",
    "\n",
    "John,20,90\n",
    "\n",
    "Jony,17,91\n",
    "\n",
    "Jony,17,93\n",
    "\n",
    "Json,21,85\n",
    "\n",
    "Then, the output of the program should be:\n",
    "\n",
    "[(\n",
    "\n",
    "'John', '20', '90'), ('Jony', '17', '91'), ('Jony', '17', '93'), ('Json', '21', '85'), ('Tom', '19', '80')]\n"
   ]
  },
  {
   "cell_type": "code",
   "execution_count": 18,
   "metadata": {},
   "outputs": [],
   "source": [
    "def Sort_tuple(tup):\n",
    "    return(sorted(tup,key=lambda x:x[0]))\n"
   ]
  },
  {
   "cell_type": "code",
   "execution_count": 19,
   "metadata": {},
   "outputs": [
    {
     "name": "stdout",
     "output_type": "stream",
     "text": [
      "[('John', 20, 90), ('Jony', 17, 91), ('Jony', 17, 93), ('Json', 21, 85), ('Tom', 19, 80)]\n"
     ]
    }
   ],
   "source": [
    "tup=[(\"Tom\",19,80),(\"John\",20,90),(\"Jony\",17,91),(\"Jony\",17,93),(\"Json\",21,85)]\n",
    "print(Sort_tuple(tup))"
   ]
  },
  {
   "cell_type": "code",
   "execution_count": null,
   "metadata": {},
   "outputs": [],
   "source": []
  }
 ],
 "metadata": {
  "kernelspec": {
   "display_name": "Python 3",
   "language": "python",
   "name": "python3"
  },
  "language_info": {
   "codemirror_mode": {
    "name": "ipython",
    "version": 3
   },
   "file_extension": ".py",
   "mimetype": "text/x-python",
   "name": "python",
   "nbconvert_exporter": "python",
   "pygments_lexer": "ipython3",
   "version": "3.7.6"
  }
 },
 "nbformat": 4,
 "nbformat_minor": 4
}
