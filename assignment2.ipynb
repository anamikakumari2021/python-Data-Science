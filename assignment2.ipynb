{
 "cells": [
  {
   "cell_type": "markdown",
   "metadata": {},
   "source": [
    "# write a python to remove duplicates from a list"
   ]
  },
  {
   "cell_type": "code",
   "execution_count": 2,
   "metadata": {},
   "outputs": [
    {
     "name": "stdout",
     "output_type": "stream",
     "text": [
      "[1, 3, 4, 7, 8, 9, 20]\n"
     ]
    }
   ],
   "source": [
    "list1=[1,4,7,3,7,8,9,20,3,9,3,1,7]\n",
    "list2=set(list1)\n",
    "print(list(list2))"
   ]
  },
  {
   "cell_type": "markdown",
   "metadata": {},
   "source": [
    "# write a python program to combine two dictionary adding values for common keys\n",
    "d1={'a':100,'b':200,'c':300}\n",
    "d2={'a':100,'b':200,'d':400}\n",
    "sample ouput:Counter({'a':400,'b':400,'c':300,'d':400})"
   ]
  },
  {
   "cell_type": "code",
   "execution_count": 46,
   "metadata": {},
   "outputs": [
    {
     "data": {
      "text/plain": [
       "Counter({'a': 400, 'b': 400, 'c': 300, 'd': 400})"
      ]
     },
     "execution_count": 46,
     "metadata": {},
     "output_type": "execute_result"
    }
   ],
   "source": [
    "from collections import Counter\n",
    "dict1={'a':100,'b':200,'c':300}\n",
    "dict2={'a':300,'b':200,'d':400}\n",
    "dict3=Counter(dict1)+Counter(dict2)\n",
    "dict3"
   ]
  },
  {
   "cell_type": "markdown",
   "metadata": {},
   "source": [
    "# write a python program to convert a touple in string"
   ]
  },
  {
   "cell_type": "code",
   "execution_count": 49,
   "metadata": {},
   "outputs": [
    {
     "name": "stdout",
     "output_type": "stream",
     "text": [
      "anamika\n"
     ]
    }
   ],
   "source": [
    "tuple1=('a','n','a','m','i','k','a')\n",
    "str=''\n",
    "for i in tuple1:\n",
    "    str=str+i\n",
    "print(str)      "
   ]
  },
  {
   "cell_type": "markdown",
   "metadata": {},
   "source": [
    "# write a python program to remove items(s) from set"
   ]
  },
  {
   "cell_type": "code",
   "execution_count": 53,
   "metadata": {},
   "outputs": [
    {
     "data": {
      "text/plain": [
       "{'anamika', 'anjali', 'arya', 'kumkum'}"
      ]
     },
     "execution_count": 53,
     "metadata": {},
     "output_type": "execute_result"
    }
   ],
   "source": [
    "set1={\"anamika\",\"arya\",\"kumkum\",\"sneha\",\"anjali\"}\n",
    "set1.remove(\"sneha\")\n",
    "set1"
   ]
  },
  {
   "cell_type": "markdown",
   "metadata": {},
   "source": [
    "# write a python program  to create a symmetric difference"
   ]
  },
  {
   "cell_type": "code",
   "execution_count": 60,
   "metadata": {},
   "outputs": [
    {
     "name": "stdout",
     "output_type": "stream",
     "text": [
      "union {1, 2, 65, 4, 98, 6, 7, 5, 9, 78, 87, 56, 89}\n",
      "intersection {2, 4, 7}\n",
      "symmetric_difference {65, 98, 5, 1, 6, 9, 78, 87, 56, 89}\n"
     ]
    }
   ],
   "source": [
    "set1={1,4,6,7,89,56,6,2,87}\n",
    "set2={4,5,9,7,5,65,78,98,2}\n",
    "print(\"union\",set1.union(set2))\n",
    "print(\"intersection\",set1.intersection(set2))\n",
    "print(\"symmetric_difference\",set1.symmetric_difference(set2))"
   ]
  },
  {
   "cell_type": "markdown",
   "metadata": {},
   "source": [
    "# write a python program to construct the following pattern,using a nested for loop\n",
    "*\n",
    "\n",
    "*\n",
    "\n",
    "*\n",
    "\n",
    "*"
   ]
  },
  {
   "cell_type": "code",
   "execution_count": 65,
   "metadata": {},
   "outputs": [
    {
     "name": "stdout",
     "output_type": "stream",
     "text": [
      "*\n",
      "  \n",
      "  \n",
      "  \n",
      "*\n",
      "  \n",
      "  \n",
      "  \n",
      "*\n",
      "  \n",
      "  \n",
      "  \n",
      "*\n",
      "  \n",
      "  \n",
      "  \n",
      "*\n",
      "  \n",
      "  \n",
      "  \n"
     ]
    }
   ],
   "source": [
    "for i in range(5):\n",
    "    print(\"*\")\n",
    "    for j in range(3):\n",
    "        print(\"  \")"
   ]
  },
  {
   "cell_type": "markdown",
   "metadata": {},
   "source": [
    "# write a python program to  get the fibbonacci series between 0 to 50"
   ]
  },
  {
   "cell_type": "code",
   "execution_count": 99,
   "metadata": {},
   "outputs": [],
   "source": [
    "def fibonacci():\n",
    "    i=0\n",
    "    j=1\n",
    "    n=50\n",
    "    print(i)\n",
    "    print(j)\n",
    "    for x in range(1,n):\n",
    "        k=i+j\n",
    "        i=j\n",
    "        j=k\n",
    "        if(j<50):\n",
    "            print(j,\"\")    \n",
    "        "
   ]
  },
  {
   "cell_type": "code",
   "execution_count": 100,
   "metadata": {},
   "outputs": [
    {
     "name": "stdout",
     "output_type": "stream",
     "text": [
      "0\n",
      "1\n",
      "1 \n",
      "2 \n",
      "3 \n",
      "5 \n",
      "8 \n",
      "13 \n",
      "21 \n",
      "34 \n"
     ]
    }
   ],
   "source": [
    "fibonacci()\n"
   ]
  },
  {
   "cell_type": "code",
   "execution_count": null,
   "metadata": {},
   "outputs": [],
   "source": []
  },
  {
   "cell_type": "code",
   "execution_count": null,
   "metadata": {},
   "outputs": [],
   "source": []
  }
 ],
 "metadata": {
  "kernelspec": {
   "display_name": "Python 3",
   "language": "python",
   "name": "python3"
  },
  "language_info": {
   "codemirror_mode": {
    "name": "ipython",
    "version": 3
   },
   "file_extension": ".py",
   "mimetype": "text/x-python",
   "name": "python",
   "nbconvert_exporter": "python",
   "pygments_lexer": "ipython3",
   "version": "3.7.6"
  }
 },
 "nbformat": 4,
 "nbformat_minor": 4
}
