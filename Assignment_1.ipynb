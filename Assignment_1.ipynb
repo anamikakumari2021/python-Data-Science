{
 "cells": [
  {
   "cell_type": "markdown",
   "metadata": {
    "id": "A6A3ryjdEfug"
   },
   "source": [
    "#### Ques 1.Write code that uses iteration to print out the length of each element of the list stored in list.\n",
    "### list = [\"hello\", \"\", \"goodbye\", \"wonderful\", \"I love Python\"]"
   ]
  },
  {
   "cell_type": "code",
   "execution_count": 1,
   "metadata": {},
   "outputs": [
    {
     "name": "stdout",
     "output_type": "stream",
     "text": [
      "5\n",
      "0\n",
      "7\n",
      "9\n",
      "13\n"
     ]
    }
   ],
   "source": [
    "list1= [\"hello\", \"\", \"goodbye\", \"wonderful\", \"I love Python\"]\n",
    "for i in list1:\n",
    "    print(len(i))\n"
   ]
  },
  {
   "cell_type": "markdown",
   "metadata": {
    "id": "Y0Y-m1Y_Ff_C"
   },
   "source": [
    "####Ques 2.  Write a Python program to count and display the vowels of a given text."
   ]
  },
  {
   "cell_type": "code",
   "execution_count": 5,
   "metadata": {},
   "outputs": [
    {
     "name": "stdout",
     "output_type": "stream",
     "text": [
      "enter the stringanamika\n",
      "a\n",
      "a\n",
      "i\n",
      "a\n",
      "4\n"
     ]
    }
   ],
   "source": [
    "str=input(\"enter the string\")\n",
    "str=str.lower()\n",
    "count=0\n",
    "for x in str:\n",
    "    if(x=='a'or x=='e'or x=='i'or x=='o'or x=='u'):\n",
    "        count=count+1\n",
    "        print(x)\n",
    "print(count)       \n",
    "        "
   ]
  },
  {
   "cell_type": "markdown",
   "metadata": {
    "id": "j-nZ8jIJFy8w"
   },
   "source": [
    "#### Ques 3. Write code to create a list of numbers from 0 to 88 and assign that list to the variable nums. Do not hard code the list."
   ]
  },
  {
   "cell_type": "code",
   "execution_count": null,
   "metadata": {},
   "outputs": [],
   "source": [
    " list1=[]\n",
    " for i in range(0,88):\n",
    "            list1.append(i)\n",
    " list1       "
   ]
  },
  {
   "cell_type": "markdown",
   "metadata": {
    "id": "pXb6mAa4HYP3"
   },
   "source": [
    "#### Ques 4.Addition is a string with a list of numbers separated by the + sign. Write code that uses the accumulation pattern to take the sum of all of the numbers and assigns it to sum_val (an integer). (You should use the .split(\"+\") function to split by \"+\" and int() to cast to an integer).\n",
    "#### Addition = \"2+5+10+20\""
   ]
  },
  {
   "cell_type": "code",
   "execution_count": 5,
   "metadata": {},
   "outputs": [
    {
     "name": "stdout",
     "output_type": "stream",
     "text": [
      "enter the numbers using sign+   10+20+30+30\n",
      "90\n"
     ]
    }
   ],
   "source": [
    "addition=input(\"enter the numbers using sign+   \").split(\"+\")\n",
    "s=0;\n",
    "for i in addition:\n",
    "    s=s+int(i)\n",
    "print(s)    "
   ]
  },
  {
   "cell_type": "markdown",
   "metadata": {
    "id": "ivZSuKbaEiAm"
   },
   "source": [
    "##### Ques 5.Write a Python program to find the volume of a sphere with diameter 12 cm.\n",
    "#### Formula: V=4/3 * π * r 3"
   ]
  },
  {
   "cell_type": "code",
   "execution_count": 4,
   "metadata": {},
   "outputs": [
    {
     "name": "stdout",
     "output_type": "stream",
     "text": [
      "904.3199999999999\n"
     ]
    }
   ],
   "source": [
    "d=12\n",
    "r=d/2\n",
    "v=4/3*3.14*r**3\n",
    "print(v)"
   ]
  },
  {
   "cell_type": "markdown",
   "metadata": {
    "id": "6uapxStRFvn3"
   },
   "source": []
  }
 ],
 "metadata": {
  "colab": {
   "name": "Assignment_1.ipynb",
   "provenance": []
  },
  "kernelspec": {
   "display_name": "Python 3",
   "language": "python",
   "name": "python3"
  },
  "language_info": {
   "codemirror_mode": {
    "name": "ipython",
    "version": 3
   },
   "file_extension": ".py",
   "mimetype": "text/x-python",
   "name": "python",
   "nbconvert_exporter": "python",
   "pygments_lexer": "ipython3",
   "version": "3.7.6"
  }
 },
 "nbformat": 4,
 "nbformat_minor": 1
}
