{
 "cells": [
  {
   "cell_type": "markdown",
   "metadata": {},
   "source": [
    "# write a python function to find the max of three numbers"
   ]
  },
  {
   "cell_type": "code",
   "execution_count": 15,
   "metadata": {},
   "outputs": [],
   "source": [
    "def maximum(a,b,c):\n",
    "    if(a>b and a>c):\n",
    "        print(\"  greater no=\",a)\n",
    "    elif(b>a and b>c):\n",
    "        print(\"  greater no=\",b)\n",
    "    elif(c>a and c>b):\n",
    "        print(\" greater no=\",c)\n",
    "    else:\n",
    "        print(\"all are same\")\n",
    "       "
   ]
  },
  {
   "cell_type": "code",
   "execution_count": 16,
   "metadata": {},
   "outputs": [
    {
     "name": "stdout",
     "output_type": "stream",
     "text": [
      " greater no= 8\n"
     ]
    }
   ],
   "source": [
    "maximum(6,6,8)"
   ]
  },
  {
   "cell_type": "markdown",
   "metadata": {},
   "source": [
    "# write a phython function to multiply all the bnumbers in a list"
   ]
  },
  {
   "cell_type": "code",
   "execution_count": 5,
   "metadata": {},
   "outputs": [],
   "source": [
    "def mult():\n",
    "    s=input(\"enter the numbers\").split(\",\")\n",
    "    s=list(s)\n",
    "    print(s)\n",
    "    l2=[]\n",
    "    j=1\n",
    "    for i in s:\n",
    "        j=int(i)*j\n",
    "        \n",
    "    print(j)    \n",
    "        "
   ]
  },
  {
   "cell_type": "code",
   "execution_count": 6,
   "metadata": {},
   "outputs": [
    {
     "name": "stdout",
     "output_type": "stream",
     "text": [
      "enter the numbers2,3,4\n",
      "['2', '3', '4']\n",
      "24\n"
     ]
    }
   ],
   "source": [
    "mult()"
   ]
  },
  {
   "cell_type": "markdown",
   "metadata": {},
   "source": [
    "# write a python function that accepts a string and calculate the numbers of uppercase letter and lowercase case letter"
   ]
  },
  {
   "cell_type": "code",
   "execution_count": 49,
   "metadata": {},
   "outputs": [],
   "source": [
    "def letter(n):\n",
    "    count=0\n",
    "    c=0\n",
    "    for i in n:\n",
    "        if i.islower()==True:\n",
    "            count=count+1\n",
    "           \n",
    "        else:\n",
    "            i.isupper()==True\n",
    "            c=c+1\n",
    "           \n",
    "    print(\"uppercase letter\",count)\n",
    "    print(\"lower letter\",c)"
   ]
  },
  {
   "cell_type": "code",
   "execution_count": 51,
   "metadata": {},
   "outputs": [
    {
     "name": "stdout",
     "output_type": "stream",
     "text": [
      "uppercase letter 5\n",
      "lower letter 2\n"
     ]
    }
   ],
   "source": [
    "letter(\"AnamikA\")\n"
   ]
  },
  {
   "cell_type": "markdown",
   "metadata": {},
   "source": [
    "# write a python function that checks whether a passed string is palindrome or not"
   ]
  },
  {
   "cell_type": "code",
   "execution_count": 4,
   "metadata": {},
   "outputs": [],
   "source": [
    "def palindrome(s):\n",
    "        if s==s[::-1]:\n",
    "            print(\"palindrome number \",s)\n",
    "        else:\n",
    "            print(\"not palindrome number\",s)"
   ]
  },
  {
   "cell_type": "code",
   "execution_count": 13,
   "metadata": {},
   "outputs": [
    {
     "name": "stdout",
     "output_type": "stream",
     "text": [
      "palindrome number  radar\n"
     ]
    }
   ],
   "source": [
    "palindrome(\"radar\")"
   ]
  },
  {
   "cell_type": "markdown",
   "metadata": {},
   "source": [
    "# write a python program to print the even numbersfrom a given list"
   ]
  },
  {
   "cell_type": "code",
   "execution_count": 15,
   "metadata": {},
   "outputs": [
    {
     "data": {
      "text/plain": [
       "[6, 2]"
      ]
     },
     "execution_count": 15,
     "metadata": {},
     "output_type": "execute_result"
    }
   ],
   "source": [
    "l1=[9,6,3,2,1,5]\n",
    "list(filter(lambda x:x%2==0,l1))"
   ]
  },
  {
   "cell_type": "code",
   "execution_count": null,
   "metadata": {},
   "outputs": [],
   "source": []
  },
  {
   "cell_type": "code",
   "execution_count": null,
   "metadata": {},
   "outputs": [],
   "source": []
  }
 ],
 "metadata": {
  "kernelspec": {
   "display_name": "Python 3",
   "language": "python",
   "name": "python3"
  },
  "language_info": {
   "codemirror_mode": {
    "name": "ipython",
    "version": 3
   },
   "file_extension": ".py",
   "mimetype": "text/x-python",
   "name": "python",
   "nbconvert_exporter": "python",
   "pygments_lexer": "ipython3",
   "version": "3.7.6"
  }
 },
 "nbformat": 4,
 "nbformat_minor": 4
}
